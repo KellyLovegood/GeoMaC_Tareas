{
 "cells": [
  {
   "cell_type": "markdown",
   "metadata": {},
   "source": [
    "## KELLY PAMELA HERNANDEZ SANDOVAL\n",
    "\n",
    "Ejercicio 3.\n",
    "Calcular el error absoluto y relativo de las siguientes aproximaciones:\n",
    "- $p = \\pi, pa = 22/7$\n",
    "- $p = e^{10}, pa = 22000$\n",
    "- $p = 10^{\\pi}, pa = 1400$\n",
    "- $p = 9!, pa = \\sqrt{18\\pi}(9/e)^{9}$\n",
    "\n"
   ]
  },
  {
   "cell_type": "code",
   "execution_count": 12,
   "metadata": {},
   "outputs": [
    {
     "name": "stdout",
     "output_type": "stream",
     "text": [
      "El error absoluto  es: 0.0012644892673496777\n",
      "El error relativo  es: 0.0004024994347707008\n"
     ]
    }
   ],
   "source": [
    "import math as m\n",
    "import numpy as np\n",
    "import matplotlib.pyplot as plt\n",
    "\n",
    "p = m.pi\n",
    "pa=22/7\n",
    "Ea = np.fabs(p - pa)\n",
    "print('El error absoluto  es:', Ea)\n",
    "\n",
    "\n",
    "Er = Ea /np.fabs(p)\n",
    "print('El error relativo  es:', Er)"
   ]
  },
  {
   "cell_type": "code",
   "execution_count": 13,
   "metadata": {},
   "outputs": [
    {
     "name": "stdout",
     "output_type": "stream",
     "text": [
      "El error absoluto  es: 26.465794806717895\n",
      "El error relativo  es: 0.0012015452253333286\n"
     ]
    }
   ],
   "source": [
    "p = m.exp(10)\n",
    "pa= 22000\n",
    "Ea = np.fabs(p - pa)\n",
    "print('El error absoluto  es:', Ea)\n",
    "\n",
    "\n",
    "Er = Ea /np.fabs(p)\n",
    "print('El error relativo  es:', Er)"
   ]
  },
  {
   "cell_type": "code",
   "execution_count": 14,
   "metadata": {},
   "outputs": [
    {
     "name": "stdout",
     "output_type": "stream",
     "text": [
      "El error absoluto  es: 14.544268632989315\n",
      "El error relativo  es: 0.010497822704619136\n"
     ]
    }
   ],
   "source": [
    "p = 10 ** m.pi\n",
    "pa= 1400\n",
    "Ea = np.fabs(p - pa)\n",
    "print('El error absoluto  es:', Ea)\n",
    "\n",
    "\n",
    "Er = Ea /np.fabs(p)\n",
    "print('El error relativo  es:', Er)"
   ]
  },
  {
   "cell_type": "code",
   "execution_count": 38,
   "metadata": {},
   "outputs": [
    {
     "name": "stdout",
     "output_type": "stream",
     "text": [
      "362880\n",
      "7.519884823893001\n",
      "47811.486646655605\n",
      "El error absoluto  es: 3343.1271580516477\n",
      "El error relativo  es: 0.009212762230080598\n"
     ]
    }
   ],
   "source": [
    "p = np.math.factorial(9)\n",
    "print(p)\n",
    "pa1= ((18 * m.pi) ** (1/2)) \n",
    "print(pa1)\n",
    "pa2=(9 / m.exp(1))**9\n",
    "\n",
    "pa=pa1 * pa2\n",
    "print(pa2)\n",
    "Ea = np.fabs(p - pa)\n",
    "print('El error absoluto  es:', Ea)\n",
    "\n",
    "\n",
    "Er = Ea /np.fabs(p)\n",
    "print('El error relativo  es:', Er)"
   ]
  },
  {
   "cell_type": "markdown",
   "metadata": {},
   "source": [
    " ## Ejercicio .\n",
    "en qué intervalo de la derivada se hace eso\n",
    "1. $f(x)= 1-e^{x}+(e-1)(sin(\\frac{\\pi x}{2})); f'(x)=-e^{x}+(\\frac{e \\pi}{2})cos(\\frac{\\pi x}{2}))-(\\frac{ \\pi}{2})cos(\\frac{\\pi x}{2})) $\n"
   ]
  },
  {
   "cell_type": "code",
   "execution_count": 50,
   "metadata": {
    "scrolled": true
   },
   "outputs": [
    {
     "data": {
      "image/png": "[encoded data removed]",
      "text/plain": [
       "<Figure size 432x288 with 1 Axes>"
      ]
     },
     "metadata": {
      "needs_background": "light"
     },
     "output_type": "display_data"
    }
   ],
   "source": [
    "# Función a ser evaluada\n",
    "yprim = lambda x: -np.exp(x) + (np.pi/2)*(np.exp(1)-1) * np.cos(m.pi *x/2)\n",
    "\n",
    "# Dominio de la función\n",
    "xmin = -2\n",
    "xmax =2 \n",
    "x = np.linspace(xmin, xmax, 100)\n",
    "\n",
    "A = 1  # Extremo izquierdo del intervalo\n",
    "B = 2  # Extremo derecho del intervalo\n",
    "\n",
    "# Gráfica de la función\n",
    "plt.plot(x,yprim(x), 'r-', lw=2)\n",
    "\n",
    "# Líneas verticales en los extremos del intervalo y línea en y = 0\n",
    "ymin = np.min(yprim(x))\n",
    "ymax = np.max(yprim(x))\n",
    "plt.plot([A,A], [ymin,ymax], 'g--', lw=1)\n",
    "plt.plot([B,B], [ymin,ymax], 'g--', lw=1)\n",
    "plt.plot([xmin, xmax], [0,0], 'b-', lw=1)\n",
    "\n",
    "plt.grid()\n",
    "plt.show()"
   ]
  },
  {
   "cell_type": "code",
   "execution_count": 45,
   "metadata": {},
   "outputs": [
    {
     "data": {
      "image/png": "[encoded data removed]",
      "text/plain": [
       "<Figure size 432x288 with 1 Axes>"
      ]
     },
     "metadata": {
      "needs_background": "light"
     },
     "output_type": "display_data"
    }
   ],
   "source": [
    "# Función a ser evaluada\n",
    "yprim = lambda x: (x-1) * (1/np.cos(x))**2 + np.tan(x) + x* np.pi* np.cos(np.pi * x)\n",
    "\n",
    "# Dominio de la función\n",
    "xmin = -1\n",
    "xmax = 1\n",
    "x = np.linspace(xmin, xmax, 100)\n",
    "\n",
    "A = 1  # Extremo izquierdo del intervalo\n",
    "B = 2  # Extremo derecho del intervalo\n",
    "\n",
    "# Gráfica de la función\n",
    "plt.plot(x,yprim(x), 'r-', lw=2)\n",
    "\n",
    "# Líneas verticales en los extremos del intervalo y línea en y = 0\n",
    "ymin = np.min(yprim(x))\n",
    "ymax = np.max(yprim(x))\n",
    "plt.plot([A,A], [ymin,ymax], 'g--', lw=1)\n",
    "plt.plot([B,B], [ymin,ymax], 'g--', lw=1)\n",
    "plt.plot([xmin, xmax], [0,0], 'b-', lw=1)\n",
    "\n",
    "plt.grid()\n",
    "plt.show()"
   ]
  },
  {
   "cell_type": "code",
   "execution_count": 51,
   "metadata": {},
   "outputs": [
    {
     "name": "stderr",
     "output_type": "stream",
     "text": [
      "<ipython-input-51-36a32b4c2601>:2: RuntimeWarning: invalid value encountered in log\n",
      "  yprim = lambda x: x * np.cos(np.pi * x) + np.sin(np.pi * x) - (1 + np.log(x) * 2/x )\n",
      "<ipython-input-51-36a32b4c2601>:2: RuntimeWarning: invalid value encountered in log\n",
      "  yprim = lambda x: x * np.cos(np.pi * x) + np.sin(np.pi * x) - (1 + np.log(x) * 2/x )\n"
     ]
    },
    {
     "data": {
      "image/png": "[encoded data removed]",
      "text/plain": [
       "<Figure size 432x288 with 1 Axes>"
      ]
     },
     "metadata": {
      "needs_background": "light"
     },
     "output_type": "display_data"
    }
   ],
   "source": [
    "# Función a ser evaluada\n",
    "yprim = lambda x: x * np.cos(np.pi * x) + np.sin(np.pi * x) - (1 + np.log(x) * 2/x )\n",
    "\n",
    "# Dominio de la función\n",
    "xmin = -5\n",
    "xmax = 5\n",
    "x = np.linspace(xmin, xmax, 100)\n",
    "\n",
    "A = 1  # Extremo izquierdo del intervalo\n",
    "B = 2  # Extremo derecho del intervalo\n",
    "\n",
    "# Gráfica de la función\n",
    "plt.plot(x,yprim(x), 'r-', lw=2)\n",
    "\n",
    "# Líneas verticales en los extremos del intervalo y línea en y = 0\n",
    "ymin = np.min(yprim(x))\n",
    "ymax = np.max(yprim(x))\n",
    "plt.plot([A,A], [ymin,ymax], 'g--', lw=1)\n",
    "plt.plot([B,B], [ymin,ymax], 'g--', lw=1)\n",
    "plt.plot([xmin, xmax], [0,0], 'b-', lw=1)\n",
    "\n",
    "plt.grid()\n",
    "plt.show()"
   ]
  },
  {
   "cell_type": "code",
   "execution_count": 37,
   "metadata": {},
   "outputs": [
    {
     "name": "stdout",
     "output_type": "stream",
     "text": [
      "0.006737946999085467\n"
     ]
    }
   ],
   "source": [
    "a= m.exp(-5)\n",
    "print(a)\n",
    "\n",
    "\n",
    "b = []\n",
    "def suma(i):\n",
    "    if i in range [0,0]\n",
    "    ((-1)** i) * (5 ** i) / np.math.factorial(i)\n",
    "    b.append()\n",
    "    \n",
    "    \n",
    "\n",
    "    \n"
   ]
  },
  {
   "cell_type": "code",
   "execution_count": null,
   "metadata": {},
   "outputs": [],
   "source": []
  }
 ],
 "metadata": {
  "kernelspec": {
   "display_name": "Python 3",
   "language": "python",
   "name": "python3"
  },
  "language_info": {
   "codemirror_mode": {
    "name": "ipython",
    "version": 3
   },
   "file_extension": ".py",
   "mimetype": "text/x-python",
   "name": "python",
   "nbconvert_exporter": "python",
   "pygments_lexer": "ipython3",
   "version": "3.8.5"
  }
 },
 "nbformat": 4,
 "nbformat_minor": 4
}
