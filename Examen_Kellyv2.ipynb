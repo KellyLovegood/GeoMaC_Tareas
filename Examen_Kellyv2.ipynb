{
 "cells": [
  {
   "cell_type": "markdown",
   "metadata": {},
   "source": [
    "## KELLY PAMELA HERNANDEZ SANDOVAL\n",
    "\n",
    "Ejercicio 3.\n",
    "Calcular el error absoluto y relativo de las siguientes aproximaciones:\n",
    "- $p = \\pi, pa = 22/7$\n",
    "- $p = e^{10}, pa = 22000$\n",
    "- $p = 10^{\\pi}, pa = 1400$\n",
    "- $p = 9!, pa = \\sqrt{18\\pi}(9/e)^{9}$\n",
    "\n"
   ]
  },
  {
   "cell_type": "code",
   "execution_count": 2,
   "metadata": {},
   "outputs": [
    {
     "name": "stdout",
     "output_type": "stream",
     "text": [
      "El error absoluto  es: 0.0012644892673496777\n",
      "El error relativo  es: 0.0004024994347707008\n"
     ]
    }
   ],
   "source": [
    "import math as m\n",
    "import numpy as np\n",
    "import matplotlib.pyplot as plt\n",
    "\n",
    "p = m.pi\n",
    "pa=22/7\n",
    "Ea = np.fabs(p - pa)\n",
    "print('El error absoluto  es:', Ea)\n",
    "\n",
    "\n",
    "Er = Ea /np.fabs(p)\n",
    "print('El error relativo  es:', Er)"
   ]
  },
  {
   "cell_type": "code",
   "execution_count": 3,
   "metadata": {},
   "outputs": [
    {
     "name": "stdout",
     "output_type": "stream",
     "text": [
      "El error absoluto  es: 26.465794806717895\n",
      "El error relativo  es: 0.0012015452253333286\n"
     ]
    }
   ],
   "source": [
    "p = m.exp(10)\n",
    "pa= 22000\n",
    "Ea = np.fabs(p - pa)\n",
    "print('El error absoluto  es:', Ea)\n",
    "\n",
    "\n",
    "Er = Ea /np.fabs(p)\n",
    "print('El error relativo  es:', Er)"
   ]
  },
  {
   "cell_type": "code",
   "execution_count": 4,
   "metadata": {},
   "outputs": [
    {
     "name": "stdout",
     "output_type": "stream",
     "text": [
      "El error absoluto  es: 14.544268632989315\n",
      "El error relativo  es: 0.010497822704619136\n"
     ]
    }
   ],
   "source": [
    "p = 10 ** m.pi\n",
    "pa= 1400\n",
    "Ea = np.fabs(p - pa)\n",
    "print('El error absoluto  es:', Ea)\n",
    "\n",
    "\n",
    "Er = Ea /np.fabs(p)\n",
    "print('El error relativo  es:', Er)"
   ]
  },
  {
   "cell_type": "code",
   "execution_count": 5,
   "metadata": {},
   "outputs": [
    {
     "name": "stdout",
     "output_type": "stream",
     "text": [
      "362880\n",
      "7.519884823893001\n",
      "47811.486646655605\n",
      "El error absoluto  es: 3343.1271580516477\n",
      "El error relativo  es: 0.009212762230080598\n"
     ]
    }
   ],
   "source": [
    "p = np.math.factorial(9)\n",
    "print(p)\n",
    "pa1= ((18 * m.pi) ** (1/2)) \n",
    "print(pa1)\n",
    "pa2=(9 / m.exp(1))**9\n",
    "\n",
    "pa=pa1 * pa2\n",
    "print(pa2)\n",
    "Ea = np.fabs(p - pa)\n",
    "print('El error absoluto  es:', Ea)\n",
    "\n",
    "\n",
    "Er = Ea /np.fabs(p)\n",
    "print('El error relativo  es:', Er)"
   ]
  },
  {
   "cell_type": "markdown",
   "metadata": {},
   "source": [
    " ## Ejercicio .\n",
    "¿En qué intervalo la derivada de las siguientes funciones se hace cero?\n",
    "la derivada de una función vale cero cuando la pendiente de la recta tangente en ese punto tiene pendiente igual a cero.\n",
    "1. $f(x)= 1-e^{x}+(e-1)(sin(\\frac{\\pi x}{2})) $\n"
   ]
  },
  {
   "cell_type": "code",
   "execution_count": 26,
   "metadata": {},
   "outputs": [
    {
     "data": {
      "image/png": "[encoded data removed]",
      "text/plain": [
       "<Figure size 432x288 with 1 Axes>"
      ]
     },
     "metadata": {
      "needs_background": "light"
     },
     "output_type": "display_data"
    },
    {
     "name": "stdout",
     "output_type": "stream",
     "text": [
      "La función se hace cero en el intervalo de 0 a 1.\n"
     ]
    }
   ],
   "source": [
    "# Función a ser evaluada\n",
    "\n",
    "y= lambda x:  1 - np.exp(x) + (np.exp(1) - 1)*np.sin(np.pi*x/2)\n",
    "\n",
    "#yprim = lambda x: -np.exp(x) + (np.pi/2)*(np.exp(1)-1) * np.cos(np.pi *x/2)\n",
    "\n",
    "# Dominio de la función\n",
    "xmin = -1\n",
    "xmax =1\n",
    "x = np.linspace(xmin, xmax, 100)\n",
    "\n",
    "\n",
    "# Gráfica de la función\n",
    "plt.plot(x,y(x))\n",
    "\n",
    "plt.grid()\n",
    "plt.show()\n",
    "\n",
    "print('La función se hace cero en el intervalo de 0.25 a 1.')\n"
   ]
  },
  {
   "cell_type": "markdown",
   "metadata": {},
   "source": [
    "¿En qué intervalo la derivada de las siguientes funciones se hace cero?\n",
    "\n",
    "b. $f(x) = (x − 1)\\tan x + x \\sin \\pi x, $ <br>\n"
   ]
  },
  {
   "cell_type": "code",
   "execution_count": 32,
   "metadata": {},
   "outputs": [
    {
     "data": {
      "image/png": "[encoded data removed]",
      "text/plain": [
       "<Figure size 432x288 with 1 Axes>"
      ]
     },
     "metadata": {
      "needs_background": "light"
     },
     "output_type": "display_data"
    },
    {
     "name": "stdout",
     "output_type": "stream",
     "text": [
      "La función se hace cero en el intervalo de 0 a 0.25\n"
     ]
    }
   ],
   "source": [
    "# Función a ser evaluada\n",
    "\n",
    "y= lambda x:  (x-1)*np.tan(x)+ x * np.sin(np.pi * x)\n",
    "\n",
    "#yprim = lambda x: -np.exp(x) + (np.pi/2)*(np.exp(1)-1) * np.cos(np.pi *x/2)\n",
    "\n",
    "# Dominio de la función\n",
    "xmin = -1\n",
    "xmax =1\n",
    "x = np.linspace(xmin, xmax, 100)\n",
    "\n",
    "\n",
    "# Gráfica de la función\n",
    "plt.plot(x,y(x))\n",
    "\n",
    "plt.grid()\n",
    "plt.show()\n",
    "\n",
    "print('La función se hace cero en el intervalo de 0 a 0.25')\n"
   ]
  },
  {
   "cell_type": "markdown",
   "metadata": {},
   "source": [
    "¿En qué intervalo la derivada de las siguientes funciones se hace cero?\n",
    "c. $f(x) = x \\sin \\pi x − (x − 2) \\ln x, $ <br>\n"
   ]
  },
  {
   "cell_type": "code",
   "execution_count": 36,
   "metadata": {},
   "outputs": [
    {
     "name": "stderr",
     "output_type": "stream",
     "text": [
      "<ipython-input-36-7e2fc39e85fe>:3: RuntimeWarning: divide by zero encountered in log\n",
      "  y= lambda x:  x * np.sin(np.pi * x)-(x-2)* np.log(x)\n"
     ]
    },
    {
     "data": {
      "image/png": "[encoded data removed]",
      "text/plain": [
       "<Figure size 432x288 with 1 Axes>"
      ]
     },
     "metadata": {
      "needs_background": "light"
     },
     "output_type": "display_data"
    },
    {
     "name": "stdout",
     "output_type": "stream",
     "text": [
      "La función se hace cero en el intervalo de 0.5 a 1\n"
     ]
    }
   ],
   "source": [
    "# Función a ser evaluada\n",
    "\n",
    "y= lambda x:  x * np.sin(np.pi * x)-(x-2)* np.log(x)\n",
    "\n",
    "\n",
    "# Dominio de la función\n",
    "xmin = 0\n",
    "xmax = 2\n",
    "x = np.linspace(xmin, xmax, 100)\n",
    "\n",
    "\n",
    "# Gráfica de la función\n",
    "plt.plot(x,y(x))\n",
    "\n",
    "plt.grid()\n",
    "plt.show()\n",
    "\n",
    "print('La función se hace cero en el intervalo de 0.5 a 1')"
   ]
  },
  {
   "cell_type": "markdown",
   "metadata": {},
   "source": [
    "¿En qué intervalo la derivada de las siguientes funciones se hace cero?\n",
    "d. $f(x) = (x − 2) \\sin x \\ln(x + 2), $ <br>\n"
   ]
  },
  {
   "cell_type": "code",
   "execution_count": 35,
   "metadata": {},
   "outputs": [
    {
     "data": {
      "image/png": "[encoded data removed]",
      "text/plain": [
       "<Figure size 432x288 with 1 Axes>"
      ]
     },
     "metadata": {
      "needs_background": "light"
     },
     "output_type": "display_data"
    },
    {
     "name": "stdout",
     "output_type": "stream",
     "text": [
      "La función se hace cero en el intervalo de -0.75 a 0.25\n"
     ]
    }
   ],
   "source": [
    "# Función a ser evaluada\n",
    "\n",
    "y= lambda x:  (x-2)*np.sin(x)*np.log(x+2)\n",
    "\n",
    "\n",
    "# Dominio de la función\n",
    "xmin = -1\n",
    "xmax =1\n",
    "x = np.linspace(xmin, xmax, 100)\n",
    "\n",
    "\n",
    "# Gráfica de la función\n",
    "plt.plot(x,y(x))\n",
    "\n",
    "plt.grid()\n",
    "plt.show()\n",
    "\n",
    "print('La función se hace cero en el intervalo de -0.75 a 0.25')"
   ]
  },
  {
   "cell_type": "markdown",
   "metadata": {},
   "source": [
    "El polinomio de Taylor de grado $n$ de la función $f(x) = e^x$ es \n",
    "$\\displaystyle P_n(x) = \\sum_{i=0}^n \\frac{x^i}{i!}$. Usando el Polinomio de Taylor de grado $9$ podemos aproximar $e^{-5}$ usando los siguientes dos métodos:\n",
    "\n",
    "a. $\\displaystyle e^{-5} \\approx \\sum_{i=0}^n \\frac{(-5)^i}{i!} = \\sum_{i=0}^n \\frac{(-1)^i 5^i}{i!}$ <br>\n",
    "\n",
    "b. $\\displaystyle e^{-5} = \\frac{1}{e^5} \\approx \\frac{1}{\\sum_{i=0}^n \\frac{5^i}{i!}}$\n",
    "\n",
    "#¿Cuál de los dos fórmulas anteriores da una mejor aproximación? ¿Por qué?"
   ]
  },
  {
   "cell_type": "code",
   "execution_count": 57,
   "metadata": {},
   "outputs": [
    {
     "name": "stdout",
     "output_type": "stream",
     "text": [
      "El valor a aproximar es: 0.006737946999085467\n",
      "El valor aproximado empleando el polinomio a es: -1.82710537918871107621\n",
      "El valor aproximado empleando el polinomio b es: 0.00695945286364953696\n",
      "Se observa que una mejor aproximación es la propuesta en el inciso b, porque el valor de (-1)^i, estará oscilando entre valores positivos y negativos, causando inestabilidad en esta\n"
     ]
    }
   ],
   "source": [
    "\n",
    "# Calcula el valor de f(x)=e^x \n",
    "a= m.exp(-5)\n",
    "print('El valor a aproximar es:',a)\n",
    "\n",
    "\n",
    "#El primer método propuesto (Inciso a)\n",
    "def sumaT_a(n):\n",
    "    suma=0\n",
    "    for i in range(0,n+1):\n",
    "        suma = suma + ((-1)**i)*(5**i) /np.math.factorial(i)\n",
    "    return suma\n",
    "\n",
    "#Se establece el valor de n=9; polinomio de Taylor de grado 9\n",
    "n = 9\n",
    "\n",
    "a1 = sumaT_a(n)\n",
    "\n",
    "print('El valor aproximado empleando el polinomio a es: {:.20f}'.format(a1))\n",
    "\n",
    "\n",
    "def sumaT_b(n):\n",
    "    suma=0\n",
    "    for i in range(0,n+1):\n",
    "        suma = suma + (5**i)/np.math.factorial(i)\n",
    "    return 1 / suma\n",
    "\n",
    "#Se establece el valor de n=9; polinomio de Taylor de grado 94\n",
    "n = 9\n",
    "\n",
    "a2 = sumaT_b(n)\n",
    "\n",
    "print('El valor aproximado empleando el polinomio b es: {:.20f}'.format(a2))\n",
    "\n",
    "\n",
    "#Observando los resultados, \n",
    "print('Se observa que una mejor aproximación es la propuesta en el inciso b, porque el valor de (-1)^i, estará oscilando entre valores positivos y negativos, causando inestabilidad en esta')\n",
    "\n"
   ]
  },
  {
   "cell_type": "markdown",
   "metadata": {},
   "source": [
    "Implementando los dos métodos antes realizados, ¿cuál es la n mínima para cada método, para alcanzar el valor de 0.00673, en la aproximación de $e^{-5}$\n",
    "\n",
    "\n",
    "a. $\\displaystyle e^{-5} \\approx \\sum_{i=0}^n \\frac{(-5)^i}{i!} = \\sum_{i=0}^n \\frac{(-1)^i 5^i}{i!}$ <br>\n",
    "\n",
    "b. $\\displaystyle e^{-5} = \\frac{1}{e^5} \\approx \\frac{1}{\\sum_{i=0}^n \\frac{5^i}{i!}}$\n",
    "\n"
   ]
  },
  {
   "cell_type": "code",
   "execution_count": 66,
   "metadata": {},
   "outputs": [
    {
     "name": "stdout",
     "output_type": "stream",
     "text": [
      "El valor a aproximar es:0.0067379470\n",
      "Empleando el valor de n= 21\n",
      "El valor aproximado empleando el polinomio a es: 0.00673620699211747217\n",
      "Empleando el valor de n= 14\n",
      "El valor aproximado empleando el polinomio b es: 0.00673947182936235085\n"
     ]
    }
   ],
   "source": [
    "# Calcula el valor de f(x)=e^x \n",
    "a= m.exp(-5)\n",
    "print('El valor a aproximar es:{:.10f}'.format(a))\n",
    "\n",
    "\n",
    "#El primer método propuesto (Inciso a)\n",
    "def sumaT_a(n):\n",
    "    suma=0\n",
    "    for i in range(0,n+1):\n",
    "        suma = suma + ((-1)**i)*(5**i) /np.math.factorial(i)\n",
    "    return suma\n",
    "\n",
    "#Se establece el valor de n=9; polinomio de Taylor de grado 9\n",
    "n = 21\n",
    "\n",
    "a1 = sumaT_a(n)\n",
    "print('Empleando el valor de n=',n)\n",
    "\n",
    "print('El valor aproximado empleando el polinomio a es: {:.20f}'.format(a1))\n",
    "\n",
    "\n",
    "def sumaT_b(n):\n",
    "    suma=0\n",
    "    for i in range(0,n+1):\n",
    "        suma = suma + (5**i)/np.math.factorial(i)\n",
    "    return 1 / suma\n",
    "\n",
    "#Se establece el valor de n=9; polinomio de Taylor de grado 94\n",
    "n = 14\n",
    "\n",
    "a2 = sumaT_b(n)\n",
    "print('Empleando el valor de n=',n)\n",
    "\n",
    "print('El valor aproximado empleando el polinomio b es: {:.20f}'.format(a2))\n",
    "\n"
   ]
  },
  {
   "cell_type": "code",
   "execution_count": null,
   "metadata": {},
   "outputs": [],
   "source": []
  }
 ],
 "metadata": {
  "kernelspec": {
   "display_name": "Python 3",
   "language": "python",
   "name": "python3"
  },
  "language_info": {
   "codemirror_mode": {
    "name": "ipython",
    "version": 3
   },
   "file_extension": ".py",
   "mimetype": "text/x-python",
   "name": "python",
   "nbconvert_exporter": "python",
   "pygments_lexer": "ipython3",
   "version": "3.8.5"
  }
 },
 "nbformat": 4,
 "nbformat_minor": 4
}
