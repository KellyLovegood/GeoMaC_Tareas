{
 "cells": [
  {
   "cell_type": "markdown",
   "metadata": {},
   "source": [
    "Obtener la aproximación de:\n",
    "$f'_i= Af_i + Bf_{i+1}+Cf_{i+2}+O(h^{2})$\n",
    "\n",
    "Se emplean 2 puntos a la derecha de i.\n",
    "\n",
    "Consideremos que $x_{0} + h =  x_{i+1}$ y $x_{0} + 2h = x_{i+2}$\n",
    "\n",
    "Además $(x_{i+1}-x_{i}) = h$ y $(x_{i+2}-x_{i})=2h $ \n",
    "\n",
    "Ahora bien\n",
    "$f_{i+1}=f_{i} + hf'_{i}+\\frac{h^{2}f''_i}{2!} + \\frac{h^{3}f'''_i}{3!} + 0(h^{3}) $\n",
    "\n",
    "$f_{i+1}=f_{i} + hf'_{i}+\\frac{h^{2}f''_i}{2} + \\frac{h^{3}f'''_i}{6} + 0(h^{3}) $\n",
    "\n",
    "\n",
    "$f_{i+2}=f_{i} + 2hf'_{i}+\\frac{4h^{2}f''_i}{2} + \\frac{8h^{3}f'''_i}{6} + 0(h^{3}) $\n",
    "\n",
    "$f_{i+2}=f_{i} + 2hf'_{i}+2h^{2}f''_i + \\frac{4h^{3}f'''_i}{3} + 0(h^{3}) $\n",
    "\n",
    "Sustituyendo en\n",
    "\n",
    "$f'_i=Af_i + Bf_{i+1} + Cf_{i+2}$\n",
    "\n",
    "Tenemos que\n",
    "\n",
    "$f'_i=Af_i + B(f_{i} + hf'_{i}+\\frac{h^{2}f''_i}{2}) + C(f_{i} + 2hf'_{i}+2h^{2}f''_i )$\n",
    "\n",
    "Factorizando\n",
    "\n",
    "$f'_i=(A+B+C)f_i + (B+2C)(hf'_{i})  + (\\frac{B}{2} + 2C)h^{2}f''_i$\n",
    "\n",
    "\n",
    "Se necesita resolver \n",
    "\n",
    "\n",
    "$f'_i = (A+B+C)f_{i}+(B+2C)hf'_i + (\\frac{B}{2} + 2C)h_{2}f''_{i} + O(h^{3})$\n",
    "\n",
    "$f'_i = (A+B+C)f_{i}+(B+2C)hf'_i + (B + 4C)h_{2}f''_{i} + O(h^{3})$\n",
    "\n"
   ]
  },
  {
   "cell_type": "code",
   "execution_count": 1,
   "metadata": {},
   "outputs": [],
   "source": [
    "import numpy as np\n",
    "\n",
    "\n"
   ]
  },
  {
   "cell_type": "code",
   "execution_count": 11,
   "metadata": {},
   "outputs": [
    {
     "data": {
      "text/plain": [
       "array([[1, 1, 1],\n",
       "       [0, 1, 2],\n",
       "       [0, 1, 4]])"
      ]
     },
     "execution_count": 11,
     "metadata": {},
     "output_type": "execute_result"
    }
   ],
   "source": [
    "#Matriz de coeficientes\n",
    "\n",
    "A = np.array([[1, 1, 1],\n",
    "             [0, 1, 2],\n",
    "             [0, 1, 4]])\n",
    "\n",
    "A\n",
    "\n",
    "#x = 1/h\n"
   ]
  },
  {
   "cell_type": "code",
   "execution_count": 14,
   "metadata": {},
   "outputs": [
    {
     "data": {
      "text/plain": [
       "array([0., 1., 0.])"
      ]
     },
     "execution_count": 14,
     "metadata": {},
     "output_type": "execute_result"
    }
   ],
   "source": [
    "#Matriz de resultados\n",
    "\n",
    "#Considerando a h como 1\n",
    "h=1\n",
    "\n",
    "B = np.array ([0, 1/h, 0])\n",
    "\n",
    "B\n"
   ]
  },
  {
   "cell_type": "code",
   "execution_count": 15,
   "metadata": {},
   "outputs": [
    {
     "data": {
      "text/plain": [
       "array([-1.5,  2. , -0.5])"
      ]
     },
     "execution_count": 15,
     "metadata": {},
     "output_type": "execute_result"
    }
   ],
   "source": [
    "#Resolviendo la matriz empleado una función de numpy\n",
    "\n",
    "x = np.linalg.solve(A, B)\n",
    "x\n"
   ]
  },
  {
   "cell_type": "markdown",
   "metadata": {},
   "source": [
    "por lo tanto, los coeficientes son:\n",
    "\n",
    "A= $\\frac{-3}{2h}$\n",
    "\n",
    "B= $\\frac{2}{h}$\n",
    "\n",
    "C= $\\frac{-1}{2h}$"
   ]
  },
  {
   "cell_type": "code",
   "execution_count": 25,
   "metadata": {},
   "outputs": [
    {
     "name": "stdout",
     "output_type": "stream",
     "text": [
      "3\n"
     ]
    }
   ],
   "source": []
  },
  {
   "cell_type": "code",
   "execution_count": null,
   "metadata": {},
   "outputs": [],
   "source": []
  }
 ],
 "metadata": {
  "kernelspec": {
   "display_name": "Python 3",
   "language": "python",
   "name": "python3"
  },
  "language_info": {
   "codemirror_mode": {
    "name": "ipython",
    "version": 3
   },
   "file_extension": ".py",
   "mimetype": "text/x-python",
   "name": "python",
   "nbconvert_exporter": "python",
   "pygments_lexer": "ipython3",
   "version": "3.8.5"
  }
 },
 "nbformat": 4,
 "nbformat_minor": 4
}
